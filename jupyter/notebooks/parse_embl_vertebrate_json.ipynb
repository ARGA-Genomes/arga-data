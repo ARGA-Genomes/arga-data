{
 "cells": [
  {
   "cell_type": "markdown",
   "metadata": {},
   "source": [
    "## Notebook to parse the EMBL vertebrate genome data in JSON from https://ftp.ensembl.org/pub/release-106/species_metadata_EnsemblVertebrates.json"
   ]
  },
  {
   "cell_type": "code",
   "execution_count": 4,
   "metadata": {},
   "outputs": [
    {
     "name": "stdout",
     "output_type": "stream",
     "text": [
      "record count = <built-in method count of list object at 0x10f2cad00>\n"
     ]
    }
   ],
   "source": [
    "import ijson\n",
    "\n",
    "entries = []\n",
    "\n",
    "with open(\"../data/species_metadata_EnsemblVertebrates.json\", \"rb\") as f:\n",
    "    for record in ijson.items(f, \"item\"): # \"item\" is top level object in JSON array\n",
    "        rec = {}\n",
    "        rec[\"emsembl_division\"] = record[\"division\"]\n",
    "        rec[\"genebuild\"] = record[\"genebuild\"]\n",
    "        rec[\"scientificName\"] = record[\"organism\"][\"scientific_name\"]\n",
    "        rec[\"vernacularName\"] = record[\"organism\"][\"display_name\"]\n",
    "        rec[\"taxonID\"] = record[\"organism\"][\"taxonomy_id\"]\n",
    "        rec[\"ensembl_assembly_accession\"] = record[\"assembly\"][\"assembly_accession\"]\n",
    "        rec[\"ensembl_assembly_level\"] = record[\"assembly\"][\"assembly_level\"]\n",
    "        rec[\"emsembl_assembly_name\"] = record[\"assembly\"][\"assembly_name\"]\n",
    "        rec[\"emsembl_assembly_base_count\"] = record[\"assembly\"][\"base_count\"]\n",
    "        rec[\"emsembl_assembly_release_date\"] = record[\"data_release\"][\"release_date\"]\n",
    "\n",
    "        entries.append(rec)\n",
    "        \n",
    "print(\"record count =\", len(entries))"
   ]
  },
  {
   "cell_type": "code",
   "execution_count": 7,
   "metadata": {},
   "outputs": [
    {
     "name": "stdout",
     "output_type": "stream",
     "text": [
      "record count = 311\n"
     ]
    },
    {
     "data": {
      "text/html": [
       "<div>\n",
       "<style scoped>\n",
       "    .dataframe tbody tr th:only-of-type {\n",
       "        vertical-align: middle;\n",
       "    }\n",
       "\n",
       "    .dataframe tbody tr th {\n",
       "        vertical-align: top;\n",
       "    }\n",
       "\n",
       "    .dataframe thead th {\n",
       "        text-align: right;\n",
       "    }\n",
       "</style>\n",
       "<table border=\"1\" class=\"dataframe\">\n",
       "  <thead>\n",
       "    <tr style=\"text-align: right;\">\n",
       "      <th></th>\n",
       "      <th>emsembl_division</th>\n",
       "      <th>scientificName</th>\n",
       "      <th>taxonID</th>\n",
       "    </tr>\n",
       "  </thead>\n",
       "  <tbody>\n",
       "    <tr>\n",
       "      <th>0</th>\n",
       "      <td>EnsemblVertebrates</td>\n",
       "      <td>Acanthochromis polyacanthus</td>\n",
       "      <td>80966</td>\n",
       "    </tr>\n",
       "    <tr>\n",
       "      <th>1</th>\n",
       "      <td>EnsemblVertebrates</td>\n",
       "      <td>Accipiter nisus</td>\n",
       "      <td>211598</td>\n",
       "    </tr>\n",
       "    <tr>\n",
       "      <th>2</th>\n",
       "      <td>EnsemblVertebrates</td>\n",
       "      <td>Ailuropoda melanoleuca</td>\n",
       "      <td>9646</td>\n",
       "    </tr>\n",
       "    <tr>\n",
       "      <th>3</th>\n",
       "      <td>EnsemblVertebrates</td>\n",
       "      <td>Amazona collaria</td>\n",
       "      <td>241587</td>\n",
       "    </tr>\n",
       "    <tr>\n",
       "      <th>4</th>\n",
       "      <td>EnsemblVertebrates</td>\n",
       "      <td>Amphilophus citrinellus</td>\n",
       "      <td>61819</td>\n",
       "    </tr>\n",
       "  </tbody>\n",
       "</table>\n",
       "</div>"
      ],
      "text/plain": [
       "     emsembl_division               scientificName  taxonID\n",
       "0  EnsemblVertebrates  Acanthochromis polyacanthus    80966\n",
       "1  EnsemblVertebrates              Accipiter nisus   211598\n",
       "2  EnsemblVertebrates       Ailuropoda melanoleuca     9646\n",
       "3  EnsemblVertebrates             Amazona collaria   241587\n",
       "4  EnsemblVertebrates      Amphilophus citrinellus    61819"
      ]
     },
     "execution_count": 7,
     "metadata": {},
     "output_type": "execute_result"
    }
   ],
   "source": [
    "import pandas as pd\n",
    "\n",
    "df = pd.DataFrame(data=entries)\n",
    "df.head()"
   ]
  }
 ],
 "metadata": {
  "interpreter": {
   "hash": "aee8b7b246df8f9039afb4144a1f6fd8d2ca17a180786b69acc140d282b71a49"
  },
  "kernelspec": {
   "display_name": "Python 3.9.8 64-bit",
   "language": "python",
   "name": "python3"
  },
  "language_info": {
   "codemirror_mode": {
    "name": "ipython",
    "version": 3
   },
   "file_extension": ".py",
   "mimetype": "text/x-python",
   "name": "python",
   "nbconvert_exporter": "python",
   "pygments_lexer": "ipython3",
   "version": "3.9.8"
  },
  "orig_nbformat": 4
 },
 "nbformat": 4,
 "nbformat_minor": 2
}
