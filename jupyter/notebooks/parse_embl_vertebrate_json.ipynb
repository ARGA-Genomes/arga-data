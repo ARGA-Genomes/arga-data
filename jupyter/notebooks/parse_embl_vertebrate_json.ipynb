{
 "cells": [
  {
   "cell_type": "markdown",
   "metadata": {},
   "source": [
    "## Notebook to parse the EMBL vertebrate genome data (JSON)\n",
    "\n",
    "Pre-downloaded from from https://ftp.ensembl.org/pub/release-106/species_metadata_EnsemblVertebrates.json and saved to `../data/` directory."
   ]
  },
  {
   "cell_type": "code",
   "execution_count": 8,
   "metadata": {},
   "outputs": [
    {
     "name": "stdout",
     "output_type": "stream",
     "text": [
      "record count = 311\n"
     ]
    }
   ],
   "source": [
    "import ijson\n",
    "\n",
    "entries = []\n",
    "\n",
    "with open(\"../data/species_metadata_EnsemblVertebrates.json\", \"rb\") as f:\n",
    "    for record in ijson.items(f, \"item\"): # \"item\" is top level object in JSON array\n",
    "        rec = {}\n",
    "        rec[\"emsembl_division\"] = record[\"division\"]\n",
    "        rec[\"genebuild\"] = record[\"genebuild\"]\n",
    "        rec[\"scientificName\"] = record[\"organism\"][\"scientific_name\"]\n",
    "        rec[\"vernacularName\"] = record[\"organism\"][\"display_name\"]\n",
    "        rec[\"taxonID\"] = record[\"organism\"][\"taxonomy_id\"]\n",
    "        rec[\"ensembl_assembly_accession\"] = record[\"assembly\"][\"assembly_accession\"]\n",
    "        rec[\"ensembl_assembly_level\"] = record[\"assembly\"][\"assembly_level\"]\n",
    "        rec[\"emsembl_assembly_name\"] = record[\"assembly\"][\"assembly_name\"]\n",
    "        rec[\"emsembl_assembly_base_count\"] = record[\"assembly\"][\"base_count\"]\n",
    "        rec[\"emsembl_assembly_release_date\"] = record[\"data_release\"][\"release_date\"]\n",
    "\n",
    "        entries.append(rec)\n",
    "        \n",
    "print(\"record count =\", len(entries))"
   ]
  },
  {
   "cell_type": "code",
   "execution_count": 9,
   "metadata": {},
   "outputs": [
    {
     "data": {
      "text/html": [
       "<div>\n",
       "<style scoped>\n",
       "    .dataframe tbody tr th:only-of-type {\n",
       "        vertical-align: middle;\n",
       "    }\n",
       "\n",
       "    .dataframe tbody tr th {\n",
       "        vertical-align: top;\n",
       "    }\n",
       "\n",
       "    .dataframe thead th {\n",
       "        text-align: right;\n",
       "    }\n",
       "</style>\n",
       "<table border=\"1\" class=\"dataframe\">\n",
       "  <thead>\n",
       "    <tr style=\"text-align: right;\">\n",
       "      <th></th>\n",
       "      <th>emsembl_division</th>\n",
       "      <th>genebuild</th>\n",
       "      <th>scientificName</th>\n",
       "      <th>vernacularName</th>\n",
       "      <th>taxonID</th>\n",
       "      <th>ensembl_assembly_accession</th>\n",
       "      <th>ensembl_assembly_level</th>\n",
       "      <th>emsembl_assembly_name</th>\n",
       "      <th>emsembl_assembly_base_count</th>\n",
       "      <th>emsembl_assembly_release_date</th>\n",
       "    </tr>\n",
       "  </thead>\n",
       "  <tbody>\n",
       "    <tr>\n",
       "      <th>0</th>\n",
       "      <td>EnsemblVertebrates</td>\n",
       "      <td>2018-05-Ensembl/2020-03</td>\n",
       "      <td>Acanthochromis polyacanthus</td>\n",
       "      <td>Spiny chromis</td>\n",
       "      <td>80966</td>\n",
       "      <td>GCA_002109545.1</td>\n",
       "      <td>primary_assembly</td>\n",
       "      <td>ASM210954v1</td>\n",
       "      <td>991584656</td>\n",
       "      <td>2022-01-12</td>\n",
       "    </tr>\n",
       "    <tr>\n",
       "      <th>1</th>\n",
       "      <td>EnsemblVertebrates</td>\n",
       "      <td>2019-07-Ensembl/2019-09</td>\n",
       "      <td>Accipiter nisus</td>\n",
       "      <td>Eurasian sparrowhawk</td>\n",
       "      <td>211598</td>\n",
       "      <td>GCA_004320145.1</td>\n",
       "      <td>primary_assembly</td>\n",
       "      <td>Accipiter_nisus_ver1.0</td>\n",
       "      <td>1190649881</td>\n",
       "      <td>2022-01-12</td>\n",
       "    </tr>\n",
       "    <tr>\n",
       "      <th>2</th>\n",
       "      <td>EnsemblVertebrates</td>\n",
       "      <td>2020-05-Ensembl/2020-06</td>\n",
       "      <td>Ailuropoda melanoleuca</td>\n",
       "      <td>Giant panda</td>\n",
       "      <td>9646</td>\n",
       "      <td>GCA_002007445.2</td>\n",
       "      <td>primary_assembly</td>\n",
       "      <td>ASM200744v2</td>\n",
       "      <td>2444060653</td>\n",
       "      <td>2022-01-12</td>\n",
       "    </tr>\n",
       "    <tr>\n",
       "      <th>3</th>\n",
       "      <td>EnsemblVertebrates</td>\n",
       "      <td>2019-07-Ensembl/2019-09</td>\n",
       "      <td>Amazona collaria</td>\n",
       "      <td>Yellow-billed parrot</td>\n",
       "      <td>241587</td>\n",
       "      <td>GCA_003947215.1</td>\n",
       "      <td>primary_assembly</td>\n",
       "      <td>ASM394721v1</td>\n",
       "      <td>1258720284</td>\n",
       "      <td>2022-01-12</td>\n",
       "    </tr>\n",
       "    <tr>\n",
       "      <th>4</th>\n",
       "      <td>EnsemblVertebrates</td>\n",
       "      <td>2018-05-Ensembl/2018-07</td>\n",
       "      <td>Amphilophus citrinellus</td>\n",
       "      <td>Midas cichlid</td>\n",
       "      <td>61819</td>\n",
       "      <td>GCA_000751415.1</td>\n",
       "      <td>primary_assembly</td>\n",
       "      <td>Midas_v5</td>\n",
       "      <td>844902565</td>\n",
       "      <td>2022-01-12</td>\n",
       "    </tr>\n",
       "  </tbody>\n",
       "</table>\n",
       "</div>"
      ],
      "text/plain": [
       "     emsembl_division                genebuild               scientificName  \\\n",
       "0  EnsemblVertebrates  2018-05-Ensembl/2020-03  Acanthochromis polyacanthus   \n",
       "1  EnsemblVertebrates  2019-07-Ensembl/2019-09              Accipiter nisus   \n",
       "2  EnsemblVertebrates  2020-05-Ensembl/2020-06       Ailuropoda melanoleuca   \n",
       "3  EnsemblVertebrates  2019-07-Ensembl/2019-09             Amazona collaria   \n",
       "4  EnsemblVertebrates  2018-05-Ensembl/2018-07      Amphilophus citrinellus   \n",
       "\n",
       "         vernacularName  taxonID ensembl_assembly_accession  \\\n",
       "0         Spiny chromis    80966            GCA_002109545.1   \n",
       "1  Eurasian sparrowhawk   211598            GCA_004320145.1   \n",
       "2           Giant panda     9646            GCA_002007445.2   \n",
       "3  Yellow-billed parrot   241587            GCA_003947215.1   \n",
       "4         Midas cichlid    61819            GCA_000751415.1   \n",
       "\n",
       "  ensembl_assembly_level   emsembl_assembly_name  emsembl_assembly_base_count  \\\n",
       "0       primary_assembly             ASM210954v1                    991584656   \n",
       "1       primary_assembly  Accipiter_nisus_ver1.0                   1190649881   \n",
       "2       primary_assembly             ASM200744v2                   2444060653   \n",
       "3       primary_assembly             ASM394721v1                   1258720284   \n",
       "4       primary_assembly                Midas_v5                    844902565   \n",
       "\n",
       "  emsembl_assembly_release_date  \n",
       "0                    2022-01-12  \n",
       "1                    2022-01-12  \n",
       "2                    2022-01-12  \n",
       "3                    2022-01-12  \n",
       "4                    2022-01-12  "
      ]
     },
     "execution_count": 9,
     "metadata": {},
     "output_type": "execute_result"
    }
   ],
   "source": [
    "import pandas as pd\n",
    "\n",
    "df = pd.DataFrame(data=entries)\n",
    "df.head()"
   ]
  },
  {
   "cell_type": "code",
   "execution_count": 10,
   "metadata": {},
   "outputs": [
    {
     "name": "stdout",
     "output_type": "stream",
     "text": [
      "<class 'pandas.core.frame.DataFrame'>\n",
      "RangeIndex: 311 entries, 0 to 310\n",
      "Data columns (total 10 columns):\n",
      " #   Column                         Non-Null Count  Dtype \n",
      "---  ------                         --------------  ----- \n",
      " 0   emsembl_division               311 non-null    object\n",
      " 1   genebuild                      311 non-null    object\n",
      " 2   scientificName                 311 non-null    object\n",
      " 3   vernacularName                 311 non-null    object\n",
      " 4   taxonID                        311 non-null    int64 \n",
      " 5   ensembl_assembly_accession     297 non-null    object\n",
      " 6   ensembl_assembly_level         311 non-null    object\n",
      " 7   emsembl_assembly_name          311 non-null    object\n",
      " 8   emsembl_assembly_base_count    311 non-null    int64 \n",
      " 9   emsembl_assembly_release_date  311 non-null    object\n",
      "dtypes: int64(2), object(8)\n",
      "memory usage: 24.4+ KB\n"
     ]
    }
   ],
   "source": [
    "df.info()"
   ]
  }
 ],
 "metadata": {
  "interpreter": {
   "hash": "aee8b7b246df8f9039afb4144a1f6fd8d2ca17a180786b69acc140d282b71a49"
  },
  "kernelspec": {
   "display_name": "Python 3.9.8 64-bit",
   "language": "python",
   "name": "python3"
  },
  "language_info": {
   "codemirror_mode": {
    "name": "ipython",
    "version": 3
   },
   "file_extension": ".py",
   "mimetype": "text/x-python",
   "name": "python",
   "nbconvert_exporter": "python",
   "pygments_lexer": "ipython3",
   "version": "3.9.8"
  },
  "orig_nbformat": 4
 },
 "nbformat": 4,
 "nbformat_minor": 2
}
