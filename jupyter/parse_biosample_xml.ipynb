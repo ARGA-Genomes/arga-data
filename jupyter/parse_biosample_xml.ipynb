{
 "cells": [
  {
   "cell_type": "code",
   "execution_count": 68,
   "metadata": {},
   "outputs": [
    {
     "name": "stdout",
     "output_type": "stream",
     "text": [
      "SAMN00000002 | {\"finishing strategy (depth of coverage)\": \"Level 3: Improved-High-Quality Draft11.6x;20\", \"collection_date\": \"not determined\", \"estimated_size\": \"2550000\", \"sop\": \"http://hmpdacc.org/doc/CommonGeneAnnotation_SOP.pdf\", \"project_type\": \"Reference Genome\", \"host\": \"Homo sapiens\", \"lat_lon\": \"not determined\", \"env_broad_scale\": \"terrestrial biome [ENVO:00000446]\", \"misc_param: HMP body site\": \"not determined\", \"nucleic acid extraction\": \"not determined\", \"env_local_scale\": \"human-associated habitat [ENVO:00009003]\", \"investigation_type\": \"missing\", \"host_taxid\": \"9606\", \"project_name\": \"Alistipes putredinis DSM 17216\", \"assembly\": \"PCAP\", \"geo_loc_name\": \"not determined\", \"source_material_id\": \"DSM 17216, CCUG 45780, CIP 104286, ATCC 29800, Carlier 10203, VPI 3293\", \"env_medium\": \"biological product [ENVO:02000043]\", \"ref_biomaterial\": \"not determined\", \"misc_param: HMP supersite\": \"gastrointestinal_tract\", \"num_replicons\": \"not determined\", \"sequencing method\": \"454-GS20, Sanger\", \"isol_growth_condt\": \"not determined\", \"env_package\": \"missing\", \"strain\": \"DSM 17216\", \"isolation_source\": \"missing\", \"type-material\": \"type strain of Alistipes putredinis\"}\n",
      "SAMN00000003 | {\"finishing strategy (depth of coverage)\": \"Level 3: Improved-High-Quality Draft6x;36\", \"collection_date\": \"not determined\", \"estimated_size\": \"3719000\", \"sop\": \"http://hmpdacc.org/doc/CommonGeneAnnotation_SOP.pdf\", \"project_type\": \"Reference Genome\", \"host\": \"Homo sapiens\", \"lat_lon\": \"not determined\", \"env_broad_scale\": \"terrestrial biome [ENVO:00000446]\", \"misc_param: HMP body site\": \"not determined\", \"nucleic acid extraction\": \"not determined\", \"env_local_scale\": \"human-associated habitat [ENVO:00009003]\", \"investigation_type\": \"missing\", \"host_taxid\": \"9606\", \"project_name\": \"Anaerotruncus colihominis DSM 17241\", \"assembly\": \"PCAP\", \"geo_loc_name\": \"not determined\", \"source_material_id\": \"DSM 17241, CCUG 45055, CIP 107754, WAL 14565\", \"env_medium\": \"biological product [ENVO:02000043]\", \"ref_biomaterial\": \"not determined\", \"misc_param: HMP supersite\": \"gastrointestinal_tract\", \"num_replicons\": \"not determined\", \"sequencing method\": \"454-GS20, Sanger\", \"isol_growth_condt\": \"not determined\", \"env_package\": \"missing\", \"strain\": \"DSM 17241\", \"isolation_source\": \"missing\", \"type-material\": \"type strain of Anaerotruncus colihominis\"}\n",
      "SAMN00000004 | {\"finishing strategy (depth of coverage)\": \"Level 3: Improved-High-Quality Draft8.8x;41\", \"collection_date\": \"not determined\", \"estimated_size\": \"4009000\", \"sop\": \"http://hmpdacc.org/doc/CommonGeneAnnotation_SOP.pdf\", \"project_type\": \"Reference Genome\", \"host\": \"Homo sapiens\", \"lat_lon\": \"not determined\", \"env_broad_scale\": \"terrestrial biome [ENVO:00000446]\", \"misc_param: HMP body site\": \"not determined\", \"nucleic acid extraction\": \"not determined\", \"env_local_scale\": \"human-associated habitat [ENVO:00009003]\", \"investigation_type\": \"missing\", \"host_taxid\": \"9606\", \"project_name\": \"Bacteroides stercoris ATCC 43183\", \"assembly\": \"Newbler, PCAP\", \"geo_loc_name\": \"not determined\", \"source_material_id\": \"ATCC 43183, CIP 104203T, JCM 9496\", \"env_medium\": \"biological product [ENVO:02000043]\", \"ref_biomaterial\": \"not determined\", \"misc_param: HMP supersite\": \"gastrointestinal_tract\", \"num_replicons\": \"not determined\", \"sequencing method\": \"454-GS20, Sanger\", \"isol_growth_condt\": \"not determined\", \"env_package\": \"missing\", \"strain\": \"ATCC 43183\", \"isolation_source\": \"missing\", \"type-material\": \"type strain of Bacteroides stercoris\"}\n"
     ]
    },
    {
     "ename": "TypeError",
     "evalue": "'NoneType' object is not subscriptable",
     "output_type": "error",
     "traceback": [
      "\u001b[0;31m---------------------------------------------------------------------------\u001b[0m",
      "\u001b[0;31mTypeError\u001b[0m                                 Traceback (most recent call last)",
      "\u001b[1;32m/Users/dos009/Github/arga-issues/jupyter/parse_biosample_xml.ipynb Cell 1'\u001b[0m in \u001b[0;36m<cell line: 62>\u001b[0;34m()\u001b[0m\n\u001b[1;32m     <a href='vscode-notebook-cell:/Users/dos009/Github/arga-issues/jupyter/parse_biosample_xml.ipynb#ch0000000?line=58'>59</a>\u001b[0m         con\u001b[39m.\u001b[39mexecutemany(sql, sqlData)\n\u001b[1;32m     <a href='vscode-notebook-cell:/Users/dos009/Github/arga-issues/jupyter/parse_biosample_xml.ipynb#ch0000000?line=59'>60</a>\u001b[0m     \u001b[39mreturn\u001b[39;00m \u001b[39mTrue\u001b[39;00m\n\u001b[0;32m---> <a href='vscode-notebook-cell:/Users/dos009/Github/arga-issues/jupyter/parse_biosample_xml.ipynb#ch0000000?line=61'>62</a>\u001b[0m parse(\u001b[39mopen\u001b[39;49m(\u001b[39m\"\u001b[39;49m\u001b[39m/data/arga-data/biosample_set.xml\u001b[39;49m\u001b[39m\"\u001b[39;49m, \u001b[39m\"\u001b[39;49m\u001b[39mr\u001b[39;49m\u001b[39m\"\u001b[39;49m)\u001b[39m.\u001b[39;49mread(\u001b[39m100000\u001b[39;49m), item_depth\u001b[39m=\u001b[39;49m\u001b[39m2\u001b[39;49m, item_callback\u001b[39m=\u001b[39;49mhandle_biosample)\n",
      "File \u001b[0;32m/usr/local/lib/python3.9/site-packages/xmltodict.py:378\u001b[0m, in \u001b[0;36mparse\u001b[0;34m(xml_input, encoding, expat, process_namespaces, namespace_separator, disable_entities, process_comments, **kwargs)\u001b[0m\n\u001b[1;32m    <a href='file:///usr/local/lib/python3.9/site-packages/xmltodict.py?line=375'>376</a>\u001b[0m     parser\u001b[39m.\u001b[39mParse(\u001b[39mb\u001b[39m\u001b[39m'\u001b[39m\u001b[39m'\u001b[39m,\u001b[39mTrue\u001b[39;00m)\n\u001b[1;32m    <a href='file:///usr/local/lib/python3.9/site-packages/xmltodict.py?line=376'>377</a>\u001b[0m \u001b[39melse\u001b[39;00m:\n\u001b[0;32m--> <a href='file:///usr/local/lib/python3.9/site-packages/xmltodict.py?line=377'>378</a>\u001b[0m     parser\u001b[39m.\u001b[39;49mParse(xml_input, \u001b[39mTrue\u001b[39;49;00m)\n\u001b[1;32m    <a href='file:///usr/local/lib/python3.9/site-packages/xmltodict.py?line=378'>379</a>\u001b[0m \u001b[39mreturn\u001b[39;00m handler\u001b[39m.\u001b[39mitem\n",
      "File \u001b[0;32m/private/tmp/pythonA3.9-20211110-80882-12a38x1/Python-3.9.8/Modules/pyexpat.c:461\u001b[0m, in \u001b[0;36mEndElement\u001b[0;34m()\u001b[0m\n",
      "File \u001b[0;32m/usr/local/lib/python3.9/site-packages/xmltodict.py:136\u001b[0m, in \u001b[0;36m_DictSAXHandler.endElement\u001b[0;34m(self, full_name)\u001b[0m\n\u001b[1;32m    <a href='file:///usr/local/lib/python3.9/site-packages/xmltodict.py?line=131'>132</a>\u001b[0m \u001b[39mif\u001b[39;00m item \u001b[39mis\u001b[39;00m \u001b[39mNone\u001b[39;00m:\n\u001b[1;32m    <a href='file:///usr/local/lib/python3.9/site-packages/xmltodict.py?line=132'>133</a>\u001b[0m     item \u001b[39m=\u001b[39m (\u001b[39mNone\u001b[39;00m \u001b[39mif\u001b[39;00m \u001b[39mnot\u001b[39;00m \u001b[39mself\u001b[39m\u001b[39m.\u001b[39mdata\n\u001b[1;32m    <a href='file:///usr/local/lib/python3.9/site-packages/xmltodict.py?line=133'>134</a>\u001b[0m             \u001b[39melse\u001b[39;00m \u001b[39mself\u001b[39m\u001b[39m.\u001b[39mcdata_separator\u001b[39m.\u001b[39mjoin(\u001b[39mself\u001b[39m\u001b[39m.\u001b[39mdata))\n\u001b[0;32m--> <a href='file:///usr/local/lib/python3.9/site-packages/xmltodict.py?line=135'>136</a>\u001b[0m should_continue \u001b[39m=\u001b[39m \u001b[39mself\u001b[39;49m\u001b[39m.\u001b[39;49mitem_callback(\u001b[39mself\u001b[39;49m\u001b[39m.\u001b[39;49mpath, item)\n\u001b[1;32m    <a href='file:///usr/local/lib/python3.9/site-packages/xmltodict.py?line=136'>137</a>\u001b[0m \u001b[39mif\u001b[39;00m \u001b[39mnot\u001b[39;00m should_continue:\n\u001b[1;32m    <a href='file:///usr/local/lib/python3.9/site-packages/xmltodict.py?line=137'>138</a>\u001b[0m     \u001b[39mraise\u001b[39;00m ParsingInterrupted()\n",
      "\u001b[1;32m/Users/dos009/Github/arga-issues/jupyter/parse_biosample_xml.ipynb Cell 1'\u001b[0m in \u001b[0;36mhandle_biosample\u001b[0;34m(path, item)\u001b[0m\n\u001b[1;32m     <a href='vscode-notebook-cell:/Users/dos009/Github/arga-issues/jupyter/parse_biosample_xml.ipynb#ch0000000?line=25'>26</a>\u001b[0m \u001b[39mdef\u001b[39;00m \u001b[39mhandle_biosample\u001b[39m(path, item):\n\u001b[1;32m     <a href='vscode-notebook-cell:/Users/dos009/Github/arga-issues/jupyter/parse_biosample_xml.ipynb#ch0000000?line=26'>27</a>\u001b[0m     accessionId \u001b[39m=\u001b[39m path[\u001b[39m1\u001b[39m][\u001b[39m1\u001b[39m][\u001b[39m'\u001b[39m\u001b[39maccession\u001b[39m\u001b[39m'\u001b[39m]\n\u001b[0;32m---> <a href='vscode-notebook-cell:/Users/dos009/Github/arga-issues/jupyter/parse_biosample_xml.ipynb#ch0000000?line=27'>28</a>\u001b[0m     atrributeList \u001b[39m=\u001b[39m item[\u001b[39m'\u001b[39;49m\u001b[39mAttributes\u001b[39;49m\u001b[39m'\u001b[39;49m][\u001b[39m'\u001b[39;49m\u001b[39mAttribute\u001b[39;49m\u001b[39m'\u001b[39;49m]\n\u001b[1;32m     <a href='vscode-notebook-cell:/Users/dos009/Github/arga-issues/jupyter/parse_biosample_xml.ipynb#ch0000000?line=28'>29</a>\u001b[0m     tempAttrs \u001b[39m=\u001b[39m {}\n\u001b[1;32m     <a href='vscode-notebook-cell:/Users/dos009/Github/arga-issues/jupyter/parse_biosample_xml.ipynb#ch0000000?line=29'>30</a>\u001b[0m     \u001b[39m#print(\"|\",atrributeList)\u001b[39;00m\n",
      "\u001b[0;31mTypeError\u001b[0m: 'NoneType' object is not subscriptable"
     ]
    }
   ],
   "source": [
    "from xmltodict import parse, ParsingInterrupted\n",
    "import sqlite3 as sl\n",
    "import json\n",
    "\n",
    "con = sl.connect('biosamples.db')\n",
    "\n",
    "with con:\n",
    "    con.execute(\"\"\"\n",
    "        CREATE TABLE IF NOT EXISTS SAMPLE (\n",
    "            id INTEGER NOT NULL PRIMARY KEY AUTOINCREMENT,\n",
    "            accession TEXT,\n",
    "            attributeJson TEXT\n",
    "        );\n",
    "    \"\"\")\n",
    "\n",
    "sql = 'INSERT INTO SAMPLE (accession, attributeJson) values(?, ?)'\n",
    "# data = [\n",
    "#     (1, 'Alice', 21),\n",
    "#     (2, 'Bob', 22),\n",
    "#     (3, 'Chris', 23)\n",
    "# ]\n",
    "# with con:\n",
    "#     con.executemany(sql, data)\n",
    "#bioSampleNameList = []\n",
    "\n",
    "def handle_biosample(path, item):\n",
    "    accessionId = path[1][1]['accession']\n",
    "    atrributeList = item['Attributes']['Attribute']\n",
    "    tempAttrs = {}\n",
    "    #print(\"|\",atrributeList)\n",
    "    for index in range(len(atrributeList)):\n",
    "        #print(\"#\",atrributeList[index])\n",
    "        attrs = atrributeList[index]\n",
    "        key = \"\"\n",
    "        key1 = [v for k, v in attrs.items() if k == '@attribute_name'] # all Attribute elements should have this \n",
    "        key2 = [v for k, v in attrs.items() if k == '@harmonized_name'] # only some elements have this but its preferable\n",
    "        if key2:\n",
    "            #tempAttrs['name'] = key2[0] \n",
    "            key = key2[0] \n",
    "        elif key1:\n",
    "            #tempAttrs['name'] = key1[0]\n",
    "            key = key1[0]\n",
    "        #tempAttrs['value'] = [v for k, v in attrs.items() if k == '#text'][0]\n",
    "        tempAttrs[key] = [v for k, v in attrs.items() if k == '#text'][0]\n",
    "        #     if key == '@harmonized_name':\n",
    "        #         print(\"1\",atrributeList[index][key])\n",
    "        #     elif key == '@attribute_name':\n",
    "        #         print(\"1\",atrributeList[index][key])\n",
    "        #     if key == '#text':\n",
    "        #         print(\"2\", atrributeList[index][key])\n",
    "            #print(key,\"||\",atrributeList[index][key])\n",
    "    #values = , ]\n",
    "    # print(path[1][1]['accession'])\n",
    "    # print(item['Attributes']['Attribute'][1]['@attribute_name'])\n",
    "    jsonStr = json.dumps(tempAttrs)\n",
    "    print(accessionId, \"|\", jsonStr)\n",
    "    sqlData = [(accessionId, jsonStr)]\n",
    "    with con:\n",
    "        con.executemany(sql, sqlData)\n",
    "    return True\n",
    "\n",
    "parse(open(\"/data/arga-data/biosample_set.xml\", \"r\").read(), item_depth=2, item_callback=handle_biosample)"
   ]
  },
  {
   "cell_type": "code",
   "execution_count": null,
   "metadata": {},
   "outputs": [],
   "source": [
    "bioSampleNameList[:10]"
   ]
  }
 ],
 "metadata": {
  "interpreter": {
   "hash": "aee8b7b246df8f9039afb4144a1f6fd8d2ca17a180786b69acc140d282b71a49"
  },
  "kernelspec": {
   "display_name": "Python 3.9.8 64-bit",
   "language": "python",
   "name": "python3"
  },
  "language_info": {
   "codemirror_mode": {
    "name": "ipython",
    "version": 3
   },
   "file_extension": ".py",
   "mimetype": "text/x-python",
   "name": "python",
   "nbconvert_exporter": "python",
   "pygments_lexer": "ipython3",
   "version": "3.9.8"
  },
  "orig_nbformat": 4
 },
 "nbformat": 4,
 "nbformat_minor": 2
}
